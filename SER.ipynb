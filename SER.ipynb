{
 "cells": [
  {
   "cell_type": "markdown",
   "metadata": {},
   "source": [
    "# Speech Emotion recognition"
   ]
  },
  {
   "cell_type": "markdown",
   "metadata": {},
   "source": [
    "The database is from berlin emotinal speech data http://emodb.bilderbar.info/docu/\n",
    "\n",
    "From the document attached, the last second character represents the emotion in German"
   ]
  },
  {
   "cell_type": "markdown",
   "metadata": {},
   "source": [
    "classify data by the name"
   ]
  },
  {
   "cell_type": "code",
   "execution_count": 18,
   "metadata": {
    "collapsed": false
   },
   "outputs": [],
   "source": [
    "from shutil import copyfile\n",
    "import glob\n",
    "import sys\n",
    "\n",
    "emotion_class_map = {'W' : 0, 'L' : 1, 'E' : 2, 'A' : 3, 'F' : 4, 'T' : 5, 'N' : 6}\n",
    "emotions = [\"anger\", \"boredom\", \"disgust\", \"fear\", \"happy\", \"sadness\", \"neutral\"]\n",
    "participants = glob.glob(\"./wav/*\")\n",
    "for source in participants:\n",
    "    cur_emo_ind = emotion_class_map[source[-6]]\n",
    "    dest = \"./data/%s/%s\" %(emotions[cur_emo_ind], source[-11:]) \n",
    "    copyfile(source, dest) #Copy file"
   ]
  },
  {
   "cell_type": "code",
   "execution_count": 44,
   "metadata": {
    "collapsed": false
   },
   "outputs": [
    {
     "name": "stdout",
     "output_type": "stream",
     "text": [
      "Start loading...\n",
      "Start dumping...\n",
      "Done.\n"
     ]
    }
   ],
   "source": [
    "from python_speech_features.base import mfcc, fbank, logfbank, ssc\n",
    "import scipy.io.wavfile as wav\n",
    "import numpy as np\n",
    "\n",
    "cepCount = 13 #no of MFCC coefficients\n",
    "nfeatures = 7 #features per coefficient\n",
    "\n",
    "emotion_class_map = {'W' : 0, 'L' : 1, 'E' : 2, 'A' : 3, 'F' : 4, 'T' : 5, 'N' : 6}\n",
    "emotions = [\"anger\", \"boredom\", \"disgust\", \"fear\", \"happy\", \"sadness\", \"neutral\"]\n",
    "\n",
    "\n",
    "def audio_read(datafs):\n",
    "    (data, fs) = wav.read(datafs)\n",
    "    ceps = mfcc(fs, numcep = cepCount)\n",
    "    feat2 = ssc(fs, samplerate = 16000, winlen = 0.025, winstep=0.01, \n",
    "                nfilt = 26, nfft = 512, lowfreq = 0, highfreq = None, preemph=0.97)\n",
    "    ls = []\n",
    "    for i in range(ceps.shape[1]):\n",
    "        temp = ceps[:,i]\n",
    "        dtemp = np.gradient(temp)\n",
    "        lfeatures  = [np.mean(temp), np.var(temp), np.amax(temp), np.amin(temp), \n",
    "        np.var(dtemp), np.mean(temp[0:temp.shape[0]/2]), np.mean(temp[temp.shape[0]/2:temp.shape[0]])]\n",
    "        temp2 = np.array(lfeatures)\n",
    "        ls.append(temp2)\n",
    "    \n",
    "    ls2 = []\n",
    "    for i in range(feat2.shape[1]):\n",
    "        temp = feat2[:,i]\n",
    "        dtemp = np.gradient(temp)\n",
    "        lfeatures = [np.mean(temp), np.var(temp), np.amax(temp), np.amin(temp), \n",
    "        np.var(dtemp), np.mean(temp[0:temp.shape[0]/2]), np.mean(temp[temp.shape[0]/2:temp.shape[0]])]\n",
    "        temp2 = np.array(lfeatures)\n",
    "        ls2.append(temp2)\n",
    "    \n",
    "    source = np.array(ls).flatten()\n",
    "    source = np.append(source, np.array(ls2).flatten())\n",
    "    return source\n",
    "\n",
    "def data_load():\n",
    "    features = []\n",
    "    labels = []\n",
    "    count = 0\n",
    "    participants = glob.glob(\"./wav/*\")\n",
    "    for source in participants:\n",
    "        cur_emo_ind = emotion_class_map[source[-6]]\n",
    "        features.append(audio_read(source))\n",
    "        labels.append(cur_emo_ind)\n",
    "        count += 1\n",
    "    return features, labels\n",
    "\n",
    "print \"Start loading...\"\n",
    "X, y = data_load()\n",
    "print \"Start dumping...\"\n",
    "X = np.array(X)\n",
    "y = np.array(y)\n",
    "X.dump(\"X.dat\")\n",
    "y.dump(\"y.dat\")\n",
    "print \"Done.\""
   ]
  },
  {
   "cell_type": "markdown",
   "metadata": {},
   "source": [
    "Load pre processed data, X and y."
   ]
  },
  {
   "cell_type": "code",
   "execution_count": 66,
   "metadata": {
    "collapsed": true
   },
   "outputs": [],
   "source": [
    "X = np.load(\"X.dat\")\n",
    "y = np.load(\"y.dat\")\n",
    "\n",
    "from sklearn.preprocessing import StandardScaler\n",
    "scaler = StandardScaler(copy=True, with_mean=True, with_std=True)\n",
    "X2 = scaler.fit_transform(X)"
   ]
  },
  {
   "cell_type": "markdown",
   "metadata": {},
   "source": [
    "Making train and test set and used different classifer to test the performance"
   ]
  },
  {
   "cell_type": "code",
   "execution_count": 77,
   "metadata": {
    "collapsed": false
   },
   "outputs": [
    {
     "name": "stdout",
     "output_type": "stream",
     "text": [
      "Training Accuracy 1.00\n",
      "\n",
      "Testing Accuracy 0.92\n",
      "\n"
     ]
    }
   ],
   "source": [
    "from sklearn.cross_validation import train_test_split\n",
    "X_train, X_test, y_train, y_test = train_test_split(X2, y, test_size = 0.2)\n",
    "\n",
    "from sklearn.svm import SVC\n",
    "clf = SVC(C=5, kernel='rbf', degree=3, decision_function_shape='ovr', random_state=None)\n",
    "\n",
    "# clf = SVC(verbose=True, cache_size = 700)\n",
    "\n",
    "clf.fit(X_train, y_train)\n",
    "\n",
    "print \"Training Accuracy %.2f\\n\" % (clf.score(X_train, y_train))\n",
    "print \"Testing Accuracy %.2f\\n\" % (clf.score(X_test, y_test))"
   ]
  },
  {
   "cell_type": "code",
   "execution_count": 68,
   "metadata": {
    "collapsed": false
   },
   "outputs": [
    {
     "name": "stdout",
     "output_type": "stream",
     "text": [
      "Training Accuracy 1.00\n",
      "\n",
      "Testing Accuracy 0.79\n",
      "\n"
     ]
    }
   ],
   "source": [
    "from sklearn.cross_validation import train_test_split\n",
    "X_train, X_test, y_train, y_test = train_test_split(X2, y, test_size = 0.2)\n",
    "\n",
    "from sklearn.ensemble import RandomForestClassifier\n",
    "clf = RandomForestClassifier(n_estimators=100)\n",
    "clf.fit(X_train, y_train)\n",
    "\n",
    "\n",
    "print \"Training Accuracy %.2f\\n\" % (clf.score(X_train, y_train))\n",
    "print \"Testing Accuracy %.2f\\n\" % (clf.score(X_test, y_test))"
   ]
  },
  {
   "cell_type": "code",
   "execution_count": 71,
   "metadata": {
    "collapsed": false
   },
   "outputs": [
    {
     "data": {
      "text/plain": [
       "['audio_SVC_model.pkl']"
      ]
     },
     "execution_count": 71,
     "metadata": {},
     "output_type": "execute_result"
    }
   ],
   "source": [
    "from sklearn.externals import joblib\n",
    "joblib.dump(clf, 'audio_SVC_model.pkl')"
   ]
  }
 ],
 "metadata": {
  "kernelspec": {
   "display_name": "Python 2",
   "language": "python",
   "name": "python2"
  },
  "language_info": {
   "codemirror_mode": {
    "name": "ipython",
    "version": 2
   },
   "file_extension": ".py",
   "mimetype": "text/x-python",
   "name": "python",
   "nbconvert_exporter": "python",
   "pygments_lexer": "ipython2",
   "version": "2.7.12"
  }
 },
 "nbformat": 4,
 "nbformat_minor": 1
}
